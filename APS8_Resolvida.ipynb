{
 "cells": [
  {
   "cell_type": "markdown",
   "metadata": {},
   "source": [
    "# APS 8 - Alessandra Blücher"
   ]
  },
  {
   "cell_type": "markdown",
   "metadata": {},
   "source": [
    "Entrega: 28/11 ao final do atendimento (17:15)"
   ]
  },
  {
   "cell_type": "code",
   "execution_count": 22,
   "metadata": {
    "collapsed": true
   },
   "outputs": [],
   "source": [
    "from scipy.stats import norm\n",
    "import numpy as np\n",
    "import statsmodels.api as sm"
   ]
  },
  {
   "cell_type": "markdown",
   "metadata": {},
   "source": [
    "## Questão 1"
   ]
  },
  {
   "cell_type": "markdown",
   "metadata": {},
   "source": [
    "Assuma que $X$ seja uma variável aleatória contínua que descreve o preço de um multímetro digital em uma loja brasileira qualquer. Ainda, assuma que o preço médio seja igual a $R\\$ 45,00$ e o desvio padrão, igual a $R\\$45,00$ e o desvio padrão, igual a $R\\$ 25,00$.\n",
    "\n",
    "Em todos os itens a seguir, deixe claro como foi construído o novo preço em função de $X$.\n",
    "\n",
    "Deixe todas as contas claramente indicadas.\n",
    "\n",
    "a) Se todas as lojas brasileiras que vendem multímetro resolvessem acrescentar 15 reais no preço de cada um dos seus respectivos multímetros. Nesse caso, qual o novo preço médio do multímetro e respectivo desvio padrão?\n",
    "\n",
    "b) Se todas as lojas brasileiras que vendem multímetro resolvessem aumentar o preço de cada um dos seus respectivos multímetros em $150\\%$. Nesse caso, qual o novo preço médio do multímetro e respectivo desvio padrão?\n",
    "\n",
    "c) Se você precisa comprar dez multímetros e deseja comprá-los todos iguais e na mesma loja. Nesse caso, qual o gasto total esperado e respectivo desvio padrão?"
   ]
  },
  {
   "cell_type": "markdown",
   "metadata": {},
   "source": [
    "a) E(X) = $R\\$ 60,00$\n",
    "\n",
    "   DP(X) = $R\\$ 25,00$\n",
    "   \n",
    "   \n",
    "   \n",
    "b) E(X) = 2.5*45 = $R\\$ 112,50$\n",
    "\n",
    "   DP(X) = 2.5*25 = $R\\$ 62,50$\n",
    "   \n",
    "   \n",
    "   \n",
    "c) Total esperado = 10*E(X) = $R\\$ 450,00$\n",
    "\n",
    "   DP = 10*DP(X) = $R\\$ 250,00$"
   ]
  },
  {
   "cell_type": "markdown",
   "metadata": {},
   "source": [
    "## Questão 2"
   ]
  },
  {
   "cell_type": "markdown",
   "metadata": {},
   "source": [
    "\t\n",
    "\t\n",
    "Assuma que, na disciplina Ciência dos dados, a nota final da disciplina seja função da nota média das provas $X$ e da nota média dos projetos $Y$. Assuma ainda que ambas as notas tem mesmo peso na construção da nota final na disciplina.\n",
    "\n",
    "\n",
    "Considerando que a nota média dos alunos nas provas segue uma normal com média 4 e desvio padrão igual a 1,5, ou seja $ X \\sim N(4 ; 2,25)$ . E que a nota média dos alunos nos projetos segue uma normal com média 7 e desvio padrão igual a 1, ou seja, $Y\\sim N(7 ; 1)$.\n",
    "\n",
    "\n",
    "Na prática, é razoável acreditar que haja uma associação positiva entre essas notas. Aqui, considere que a covariância entre essas notas médias é igual a $0,675$ .\n",
    "\n",
    "Em todos os itens a seguir, deixe todas as contas claramente indicadas. \n",
    "\n",
    "\n",
    "a) Calcule a nota média final e respectivo desvio padrão.\n",
    "   \n",
    " b) Considere que a nota final na disciplina Ciência dos dados segue uma distribuição com média e variância obtidas no item anterior.      Calcule a probabilidade de um aluno ser aprovado na disciplina.\n"
   ]
  },
  {
   "cell_type": "markdown",
   "metadata": {},
   "source": [
    "a) E(X/2 + Y/2) = 2 + 3,5 = 5,5\n",
    "\n",
    "   Var(X/2 + Y/2) = DP(X)^2/4 + DP(Y)^2/4 + 2Cov(X,Y)/4 = 2,25/4 + 1/4 + 2*0,675/4 = 1,15\n",
    "   \n",
    "   DP(X+Y) = (Var(X+Y))^(1/2) = 1,0724\n",
    "   "
   ]
  },
  {
   "cell_type": "code",
   "execution_count": 5,
   "metadata": {
    "collapsed": false
   },
   "outputs": [
    {
     "name": "stdout",
     "output_type": "stream",
     "text": [
      "A probabilidade é de 67.94795491685372%\n"
     ]
    }
   ],
   "source": [
    "#b) \n",
    "\n",
    "loc = 5.5\n",
    "scale = 1.0724\n",
    "x = 1- norm.cdf(5,loc,scale)\n",
    "print(\"A probabilidade é de {}%\".format(x*100))"
   ]
  },
  {
   "cell_type": "markdown",
   "metadata": {},
   "source": [
    "### Dataset para as questões de programação"
   ]
  },
  {
   "cell_type": "markdown",
   "metadata": {},
   "source": [
    "Vamos trabalhar com o problema *House Sales in King County*, do Kaggle\n",
    "[https://www.kaggle.com/harlfoxem/housesalesprediction](https://www.kaggle.com/harlfoxem/housesalesprediction)"
   ]
  },
  {
   "cell_type": "code",
   "execution_count": 6,
   "metadata": {
    "collapsed": true
   },
   "outputs": [],
   "source": [
    "import pandas as pd\n",
    "import numpy as np\n",
    "import matplotlib.pyplot as plt\n",
    "import statsmodels.api as sm\n",
    "from scipy import stats\n",
    "stats.probplot(houses.sqft_lot, dist='norm', plot=plt)\n",
    "plt.show()\n",
    "%matplotlib inline"
   ]
  },
  {
   "cell_type": "code",
   "execution_count": 7,
   "metadata": {
    "collapsed": true
   },
   "outputs": [],
   "source": [
    "houses = pd.read_csv(\"casas.csv\")"
   ]
  },
  {
   "cell_type": "code",
   "execution_count": 8,
   "metadata": {
    "collapsed": false
   },
   "outputs": [
    {
     "data": {
      "text/html": [
       "<div>\n",
       "<table border=\"1\" class=\"dataframe\">\n",
       "  <thead>\n",
       "    <tr style=\"text-align: right;\">\n",
       "      <th></th>\n",
       "      <th>price</th>\n",
       "      <th>bedrooms</th>\n",
       "      <th>bathrooms</th>\n",
       "      <th>sqft_living</th>\n",
       "      <th>sqft_lot</th>\n",
       "      <th>floors</th>\n",
       "      <th>sqft_basement</th>\n",
       "      <th>grade</th>\n",
       "    </tr>\n",
       "  </thead>\n",
       "  <tbody>\n",
       "    <tr>\n",
       "      <th>0</th>\n",
       "      <td>540000.0</td>\n",
       "      <td>4</td>\n",
       "      <td>2.50</td>\n",
       "      <td>2600</td>\n",
       "      <td>9935</td>\n",
       "      <td>2.0</td>\n",
       "      <td>0</td>\n",
       "      <td>8</td>\n",
       "    </tr>\n",
       "    <tr>\n",
       "      <th>1</th>\n",
       "      <td>815000.0</td>\n",
       "      <td>3</td>\n",
       "      <td>3.75</td>\n",
       "      <td>2780</td>\n",
       "      <td>5002</td>\n",
       "      <td>2.0</td>\n",
       "      <td>0</td>\n",
       "      <td>10</td>\n",
       "    </tr>\n",
       "    <tr>\n",
       "      <th>2</th>\n",
       "      <td>279000.0</td>\n",
       "      <td>3</td>\n",
       "      <td>2.25</td>\n",
       "      <td>2070</td>\n",
       "      <td>7800</td>\n",
       "      <td>1.0</td>\n",
       "      <td>900</td>\n",
       "      <td>7</td>\n",
       "    </tr>\n",
       "    <tr>\n",
       "      <th>3</th>\n",
       "      <td>360000.0</td>\n",
       "      <td>2</td>\n",
       "      <td>2.50</td>\n",
       "      <td>1233</td>\n",
       "      <td>1244</td>\n",
       "      <td>2.0</td>\n",
       "      <td>270</td>\n",
       "      <td>7</td>\n",
       "    </tr>\n",
       "    <tr>\n",
       "      <th>4</th>\n",
       "      <td>309000.0</td>\n",
       "      <td>3</td>\n",
       "      <td>2.50</td>\n",
       "      <td>1990</td>\n",
       "      <td>3614</td>\n",
       "      <td>2.0</td>\n",
       "      <td>0</td>\n",
       "      <td>7</td>\n",
       "    </tr>\n",
       "  </tbody>\n",
       "</table>\n",
       "</div>"
      ],
      "text/plain": [
       "      price  bedrooms  bathrooms  sqft_living  sqft_lot  floors  \\\n",
       "0  540000.0         4       2.50         2600      9935     2.0   \n",
       "1  815000.0         3       3.75         2780      5002     2.0   \n",
       "2  279000.0         3       2.25         2070      7800     1.0   \n",
       "3  360000.0         2       2.50         1233      1244     2.0   \n",
       "4  309000.0         3       2.50         1990      3614     2.0   \n",
       "\n",
       "   sqft_basement  grade  \n",
       "0              0      8  \n",
       "1              0     10  \n",
       "2            900      7  \n",
       "3            270      7  \n",
       "4              0      7  "
      ]
     },
     "execution_count": 8,
     "metadata": {},
     "output_type": "execute_result"
    }
   ],
   "source": [
    "houses.head()"
   ]
  },
  {
   "cell_type": "markdown",
   "metadata": {},
   "source": [
    "## Q3\n",
    "\n",
    "O dataset fornecido é uma amostra extraída de um dataset maior. A amostra pode ter vindo de uma população com média de `sqft_lot` de 8250? \n",
    "\n",
    "Passos:\n",
    "\n",
    "**a)** Verifique que `sqft_lot` **não** é normal.\n",
    "\n",
    "Dica: na *APS 7* foi feito um teste de normalidade. Repita o mesmo processo\n",
    "\n",
    "**b)**  Se `sqft_lot` fosse normal, que tipo de teste poderíamos ter usado?\n",
    "\n",
    "**c)** Saberíamos $\\mu$ para montar o t? Saberíamos $\\sigma$?\n",
    "\n",
    "\n",
    "**Bootstrap**:\n",
    "\n",
    "**d)** Monte um intervalo percentil boostrap de $95\\%$.\n",
    "\n",
    "**e)** Informe os valores inferiores e superiores\n",
    "\n",
    "**f)** Conclua o teste\n"
   ]
  },
  {
   "cell_type": "markdown",
   "metadata": {},
   "source": [
    "a) O gráfico abaixo mostra que de fato sqft_lot não é normal uma vez que o comportamento esperado quando normal é que os pontos acompanhem a distribuição da reta, o que não acontece nesse caso."
   ]
  },
  {
   "cell_type": "code",
   "execution_count": 10,
   "metadata": {
    "collapsed": false
   },
   "outputs": [
    {
     "data": {
      "image/png": "[encoded data removed]",
      "text/plain": [
       "<matplotlib.figure.Figure at 0x17d47dec748>"
      ]
     },
     "metadata": {},
     "output_type": "display_data"
    }
   ],
   "source": [
    "stats.probplot(houses.sqft_lot, dist='norm', plot=plt)\n",
    "plt.show()"
   ]
  },
  {
   "cell_type": "markdown",
   "metadata": {},
   "source": [
    "b) O teste t.\n",
    "\n",
    "c) Saberíamos o $\\mu$, porém não o $\\sigma$."
   ]
  },
  {
   "cell_type": "code",
   "execution_count": 14,
   "metadata": {
    "collapsed": false
   },
   "outputs": [
    {
     "name": "stdout",
     "output_type": "stream",
     "text": [
      "Média:  10292.538461538461\n",
      "Desvio padrão amostral:  16122.868507454057\n"
     ]
    }
   ],
   "source": [
    "#d\n",
    "dados = houses.sqft_lot\n",
    "media = np.mean(x)\n",
    "dp = np.std(dados,ddof=1)\n",
    "\n",
    "print(\"Média: \", media)\n",
    "print(\"Desvio padrão amostral: \", dp)"
   ]
  },
  {
   "cell_type": "code",
   "execution_count": 18,
   "metadata": {
    "collapsed": false
   },
   "outputs": [
    {
     "name": "stdout",
     "output_type": "stream",
     "text": [
      "Limite inferior: 6929.72769231\n",
      "Limite superior: 14522.805\n"
     ]
    }
   ],
   "source": [
    "#e - Construção das Reamostragens da amostra mestre (dados) com reposição\n",
    "\n",
    "lista = []\n",
    "\n",
    "N = 10000\n",
    "for i in range(N):\n",
    "    # Gera uma reamostra dos dados _com_ reposição\n",
    "    amostra = np.random.choice(dados, size=n, replace=True)\n",
    "    xb = np.mean(amostra)\n",
    "    lista.append(xb)\n",
    "\n",
    "Lim_inf = np.percentile(lista, 2.5)\n",
    "Lim_sup = np.percentile(lista, 97.5)\n",
    "print('Limite inferior:', Lim_inf)\n",
    "print('Limite superior:', Lim_sup)"
   ]
  },
  {
   "cell_type": "code",
   "execution_count": 20,
   "metadata": {
    "collapsed": false
   },
   "outputs": [
    {
     "name": "stdout",
     "output_type": "stream",
     "text": [
      "Limite inferior do desvio padrão: 5884.8083281\n",
      "Limite superior do desvio padrão: 23609.1884505\n"
     ]
    }
   ],
   "source": [
    "lista = []\n",
    "\n",
    "N = 10000\n",
    "for i in range(N):\n",
    "    # Gera uma reamostra dos dados _com_ reposição\n",
    "    amostra = np.random.choice(dados, size=n, replace=True)\n",
    "    xb = np.std(amostra)\n",
    "    lista.append(xb)\n",
    "\n",
    "Lim_inf = np.percentile(lista, 2.5)\n",
    "Lim_sup = np.percentile(lista, 97.5)\n",
    "print('Limite inferior do desvio padrão:', Lim_inf)\n",
    "print('Limite superior do desvio padrão:', Lim_sup)"
   ]
  },
  {
   "cell_type": "markdown",
   "metadata": {},
   "source": [
    "f) Como a média e o desvio padrão estão dentro do limite o modelo está coerente."
   ]
  },
  {
   "cell_type": "markdown",
   "metadata": {},
   "source": [
    "## Q4\n",
    "\n",
    "Faça uma regressão que usa `sqft_living` como variável explicativa  e `price` como resultado: "
   ]
  },
  {
   "cell_type": "markdown",
   "metadata": {},
   "source": [
    "**a).** De acordo com a notação que usamos em aula, quem é $\\hat{\\beta_0}$ e quem é $\\hat{\\beta_1}$ ?"
   ]
  },
  {
   "cell_type": "markdown",
   "metadata": {},
   "source": [
    "**b).** Interprete o $R^2$ , os valores $P > |t|$ e também *Prob (F-statistic)*."
   ]
  },
  {
   "cell_type": "markdown",
   "metadata": {},
   "source": [
    "**c).** Escreva a equação que expressa `price` em função de `sqft_living`.\n",
    "\n",
    "**d).** Faça um gráfico de dispersão de `price` em função de `sqft_living`, plote a equação que encontrou no item anterior no mesmo gráfico\n"
   ]
  },
  {
   "cell_type": "code",
   "execution_count": 23,
   "metadata": {
    "collapsed": false
   },
   "outputs": [
    {
     "data": {
      "text/html": [
       "<table class=\"simpletable\">\n",
       "<caption>OLS Regression Results</caption>\n",
       "<tr>\n",
       "  <th>Dep. Variable:</th>          <td>price</td>      <th>  R-squared:         </th> <td>   0.472</td>\n",
       "</tr>\n",
       "<tr>\n",
       "  <th>Model:</th>                   <td>OLS</td>       <th>  Adj. R-squared:    </th> <td>   0.463</td>\n",
       "</tr>\n",
       "<tr>\n",
       "  <th>Method:</th>             <td>Least Squares</td>  <th>  F-statistic:       </th> <td>   56.21</td>\n",
       "</tr>\n",
       "<tr>\n",
       "  <th>Date:</th>             <td>Tue, 28 Nov 2017</td> <th>  Prob (F-statistic):</th> <td>2.70e-10</td>\n",
       "</tr>\n",
       "<tr>\n",
       "  <th>Time:</th>                 <td>17:31:26</td>     <th>  Log-Likelihood:    </th> <td> -892.24</td>\n",
       "</tr>\n",
       "<tr>\n",
       "  <th>No. Observations:</th>      <td>    65</td>      <th>  AIC:               </th> <td>   1788.</td>\n",
       "</tr>\n",
       "<tr>\n",
       "  <th>Df Residuals:</th>          <td>    63</td>      <th>  BIC:               </th> <td>   1793.</td>\n",
       "</tr>\n",
       "<tr>\n",
       "  <th>Df Model:</th>              <td>     1</td>      <th>                     </th>     <td> </td>   \n",
       "</tr>\n",
       "<tr>\n",
       "  <th>Covariance Type:</th>      <td>nonrobust</td>    <th>                     </th>     <td> </td>   \n",
       "</tr>\n",
       "</table>\n",
       "<table class=\"simpletable\">\n",
       "<tr>\n",
       "       <td></td>          <th>coef</th>     <th>std err</th>      <th>t</th>      <th>P>|t|</th> <th>[95.0% Conf. Int.]</th> \n",
       "</tr>\n",
       "<tr>\n",
       "  <th>const</th>       <td> 4.928e+04</td> <td> 7.44e+04</td> <td>    0.662</td> <td> 0.510</td> <td>-9.95e+04  1.98e+05</td>\n",
       "</tr>\n",
       "<tr>\n",
       "  <th>sqft_living</th> <td>  247.0810</td> <td>   32.954</td> <td>    7.498</td> <td> 0.000</td> <td>  181.227   312.935</td>\n",
       "</tr>\n",
       "</table>\n",
       "<table class=\"simpletable\">\n",
       "<tr>\n",
       "  <th>Omnibus:</th>       <td>12.716</td> <th>  Durbin-Watson:     </th> <td>   1.643</td>\n",
       "</tr>\n",
       "<tr>\n",
       "  <th>Prob(Omnibus):</th> <td> 0.002</td> <th>  Jarque-Bera (JB):  </th> <td>  13.432</td>\n",
       "</tr>\n",
       "<tr>\n",
       "  <th>Skew:</th>          <td> 0.973</td> <th>  Prob(JB):          </th> <td> 0.00121</td>\n",
       "</tr>\n",
       "<tr>\n",
       "  <th>Kurtosis:</th>      <td> 4.081</td> <th>  Cond. No.          </th> <td>6.03e+03</td>\n",
       "</tr>\n",
       "</table>"
      ],
      "text/plain": [
       "<class 'statsmodels.iolib.summary.Summary'>\n",
       "\"\"\"\n",
       "                            OLS Regression Results                            \n",
       "==============================================================================\n",
       "Dep. Variable:                  price   R-squared:                       0.472\n",
       "Model:                            OLS   Adj. R-squared:                  0.463\n",
       "Method:                 Least Squares   F-statistic:                     56.21\n",
       "Date:                Tue, 28 Nov 2017   Prob (F-statistic):           2.70e-10\n",
       "Time:                        17:31:26   Log-Likelihood:                -892.24\n",
       "No. Observations:                  65   AIC:                             1788.\n",
       "Df Residuals:                      63   BIC:                             1793.\n",
       "Df Model:                           1                                         \n",
       "Covariance Type:            nonrobust                                         \n",
       "===============================================================================\n",
       "                  coef    std err          t      P>|t|      [95.0% Conf. Int.]\n",
       "-------------------------------------------------------------------------------\n",
       "const        4.928e+04   7.44e+04      0.662      0.510     -9.95e+04  1.98e+05\n",
       "sqft_living   247.0810     32.954      7.498      0.000       181.227   312.935\n",
       "==============================================================================\n",
       "Omnibus:                       12.716   Durbin-Watson:                   1.643\n",
       "Prob(Omnibus):                  0.002   Jarque-Bera (JB):               13.432\n",
       "Skew:                           0.973   Prob(JB):                      0.00121\n",
       "Kurtosis:                       4.081   Cond. No.                     6.03e+03\n",
       "==============================================================================\n",
       "\n",
       "Warnings:\n",
       "[1] Standard Errors assume that the covariance matrix of the errors is correctly specified.\n",
       "[2] The condition number is large, 6.03e+03. This might indicate that there are\n",
       "strong multicollinearity or other numerical problems.\n",
       "\"\"\""
      ]
     },
     "execution_count": 23,
     "metadata": {},
     "output_type": "execute_result"
    }
   ],
   "source": [
    "#a\n",
    "Y = houses['price']\n",
    "X = houses['sqft_living']\n",
    "X = sm.add_constant(X)\n",
    "model = sm.OLS(Y,X)\n",
    "results = model.fit()\n",
    "results.summary()"
   ]
  },
  {
   "cell_type": "markdown",
   "metadata": {},
   "source": [
    "$\\hat{\\beta_0}$ = 4.928e+04\n",
    "\n",
    "$\\hat{\\beta_1}$ = 247.0810"
   ]
  },
  {
   "cell_type": "markdown",
   "metadata": {},
   "source": [
    "b) \n",
    "\n",
    "O R^2 indica que o ajuste do modelo está próximo a 40% de precisão. \n",
    "\n",
    "Os valores P>|t| indicam a probabilidade de existir um erro de tipo 1. Nesse caso os valores são satisfatórios para uma boa análise.\n",
    "\n",
    "F por sua vez indica a probabilidade de um dos parâmetros analisados ser reduntante. Nesse caso F é pequeno, portanto a maioria das métricas estão otimizadas."
   ]
  },
  {
   "cell_type": "markdown",
   "metadata": {},
   "source": [
    "c) \n",
    "y = 49280 + 247.0810x"
   ]
  },
  {
   "cell_type": "code",
   "execution_count": 33,
   "metadata": {
    "collapsed": false
   },
   "outputs": [
    {
     "data": {
      "image/png": "[encoded data removed]",
      "text/plain": [
       "<matplotlib.figure.Figure at 0x17d49d06ac8>"
      ]
     },
     "metadata": {},
     "output_type": "display_data"
    }
   ],
   "source": [
    "plt.scatter(houses.sqft_living,houses.price,c='gold')\n",
    "plt.plot((500,4500),(172820.5,1161144.5),c='black')\n",
    "plt.show()"
   ]
  },
  {
   "cell_type": "markdown",
   "metadata": {},
   "source": [
    "## Q5\n",
    "\n",
    "Faça agora uma regressão múltipla que tenta prever `price` (variável explicada) em função das variáveis `sqft_lot`  e `sqft_basement` (explicativa).\n",
    "\n",
    "Dica: inclua as duas colunas dentro de uma variável `X`, o restante não se altera em relação à regressão simples.\n",
    "\n",
    "\n",
    "```python\n",
    "Y = houses['price']\n",
    "X = houses.loc[:, ['sqft_lot', 'sqft_basement']]\n",
    "```\n",
    "\n",
    "Pede-se:\n",
    "\n",
    "**a).** Repita a intepretação dos valores $P > |t|$ e Prob (F-statistic) porém com duas variáveis.\n",
    "\n",
    "O que os valores encontrados implicam para a regressão?\n",
    "\n",
    "\n",
    "**b).** Escreva a função que foi encontrada pela regressão ( `price` em função de  `sqft_lot`  e `sqft_basement`)"
   ]
  },
  {
   "cell_type": "code",
   "execution_count": 34,
   "metadata": {
    "collapsed": false
   },
   "outputs": [
    {
     "data": {
      "text/html": [
       "<table class=\"simpletable\">\n",
       "<caption>OLS Regression Results</caption>\n",
       "<tr>\n",
       "  <th>Dep. Variable:</th>          <td>price</td>      <th>  R-squared:         </th> <td>   0.029</td>\n",
       "</tr>\n",
       "<tr>\n",
       "  <th>Model:</th>                   <td>OLS</td>       <th>  Adj. R-squared:    </th> <td>  -0.003</td>\n",
       "</tr>\n",
       "<tr>\n",
       "  <th>Method:</th>             <td>Least Squares</td>  <th>  F-statistic:       </th> <td>  0.9115</td>\n",
       "</tr>\n",
       "<tr>\n",
       "  <th>Date:</th>             <td>Tue, 28 Nov 2017</td> <th>  Prob (F-statistic):</th>  <td> 0.407</td> \n",
       "</tr>\n",
       "<tr>\n",
       "  <th>Time:</th>                 <td>18:04:54</td>     <th>  Log-Likelihood:    </th> <td> -912.03</td>\n",
       "</tr>\n",
       "<tr>\n",
       "  <th>No. Observations:</th>      <td>    65</td>      <th>  AIC:               </th> <td>   1830.</td>\n",
       "</tr>\n",
       "<tr>\n",
       "  <th>Df Residuals:</th>          <td>    62</td>      <th>  BIC:               </th> <td>   1837.</td>\n",
       "</tr>\n",
       "<tr>\n",
       "  <th>Df Model:</th>              <td>     2</td>      <th>                     </th>     <td> </td>   \n",
       "</tr>\n",
       "<tr>\n",
       "  <th>Covariance Type:</th>      <td>nonrobust</td>    <th>                     </th>     <td> </td>   \n",
       "</tr>\n",
       "</table>\n",
       "<table class=\"simpletable\">\n",
       "<tr>\n",
       "        <td></td>           <th>coef</th>     <th>std err</th>      <th>t</th>      <th>P>|t|</th> <th>[95.0% Conf. Int.]</th> \n",
       "</tr>\n",
       "<tr>\n",
       "  <th>const</th>         <td> 5.237e+05</td> <td> 5.01e+04</td> <td>   10.462</td> <td> 0.000</td> <td> 4.24e+05  6.24e+05</td>\n",
       "</tr>\n",
       "<tr>\n",
       "  <th>sqft_lot</th>      <td>    2.7668</td> <td>    2.383</td> <td>    1.161</td> <td> 0.250</td> <td>   -1.997     7.531</td>\n",
       "</tr>\n",
       "<tr>\n",
       "  <th>sqft_basement</th> <td>   68.6891</td> <td>  101.802</td> <td>    0.675</td> <td> 0.502</td> <td> -134.810   272.188</td>\n",
       "</tr>\n",
       "</table>\n",
       "<table class=\"simpletable\">\n",
       "<tr>\n",
       "  <th>Omnibus:</th>       <td>24.116</td> <th>  Durbin-Watson:     </th> <td>   1.833</td>\n",
       "</tr>\n",
       "<tr>\n",
       "  <th>Prob(Omnibus):</th> <td> 0.000</td> <th>  Jarque-Bera (JB):  </th> <td>  38.221</td>\n",
       "</tr>\n",
       "<tr>\n",
       "  <th>Skew:</th>          <td> 1.369</td> <th>  Prob(JB):          </th> <td>5.02e-09</td>\n",
       "</tr>\n",
       "<tr>\n",
       "  <th>Kurtosis:</th>      <td> 5.572</td> <th>  Cond. No.          </th> <td>2.50e+04</td>\n",
       "</tr>\n",
       "</table>"
      ],
      "text/plain": [
       "<class 'statsmodels.iolib.summary.Summary'>\n",
       "\"\"\"\n",
       "                            OLS Regression Results                            \n",
       "==============================================================================\n",
       "Dep. Variable:                  price   R-squared:                       0.029\n",
       "Model:                            OLS   Adj. R-squared:                 -0.003\n",
       "Method:                 Least Squares   F-statistic:                    0.9115\n",
       "Date:                Tue, 28 Nov 2017   Prob (F-statistic):              0.407\n",
       "Time:                        18:04:54   Log-Likelihood:                -912.03\n",
       "No. Observations:                  65   AIC:                             1830.\n",
       "Df Residuals:                      62   BIC:                             1837.\n",
       "Df Model:                           2                                         \n",
       "Covariance Type:            nonrobust                                         \n",
       "=================================================================================\n",
       "                    coef    std err          t      P>|t|      [95.0% Conf. Int.]\n",
       "---------------------------------------------------------------------------------\n",
       "const          5.237e+05   5.01e+04     10.462      0.000      4.24e+05  6.24e+05\n",
       "sqft_lot          2.7668      2.383      1.161      0.250        -1.997     7.531\n",
       "sqft_basement    68.6891    101.802      0.675      0.502      -134.810   272.188\n",
       "==============================================================================\n",
       "Omnibus:                       24.116   Durbin-Watson:                   1.833\n",
       "Prob(Omnibus):                  0.000   Jarque-Bera (JB):               38.221\n",
       "Skew:                           1.369   Prob(JB):                     5.02e-09\n",
       "Kurtosis:                       5.572   Cond. No.                     2.50e+04\n",
       "==============================================================================\n",
       "\n",
       "Warnings:\n",
       "[1] Standard Errors assume that the covariance matrix of the errors is correctly specified.\n",
       "[2] The condition number is large, 2.5e+04. This might indicate that there are\n",
       "strong multicollinearity or other numerical problems.\n",
       "\"\"\""
      ]
     },
     "execution_count": 34,
     "metadata": {},
     "output_type": "execute_result"
    }
   ],
   "source": [
    "#a\n",
    "Y = houses.price\n",
    "X = houses.loc[:, ['sqft_lot', 'sqft_basement']]\n",
    "X = sm.add_constant(X)\n",
    "model = sm.OLS(Y,X)\n",
    "results = model.fit()\n",
    "results.summary()"
   ]
  },
  {
   "cell_type": "markdown",
   "metadata": {},
   "source": [
    "Essa amostra está coerente com uma distribuição normal, possui as métricas bastante otimizadas e uma probabilidade de erro do tipo 1 razoavelmente aceitavel, principalmente para sqft_lot. "
   ]
  },
  {
   "cell_type": "markdown",
   "metadata": {
    "collapsed": true
   },
   "source": [
    "b)\n",
    "#### y = 2.7668(x1) + 68.6891(x2) + 523700"
   ]
  }
 ],
 "metadata": {
  "kernelspec": {
   "display_name": "Python 3",
   "language": "python",
   "name": "python3"
  },
  "language_info": {
   "codemirror_mode": {
    "name": "ipython",
    "version": 3
   },
   "file_extension": ".py",
   "mimetype": "text/x-python",
   "name": "python",
   "nbconvert_exporter": "python",
   "pygments_lexer": "ipython3",
   "version": "3.6.0"
  }
 },
 "nbformat": 4,
 "nbformat_minor": 2
}
