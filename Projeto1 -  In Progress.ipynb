{
 "cells": [
  {
   "cell_type": "markdown",
   "metadata": {},
   "source": [
    "___\n",
    "# Ciência dos Dados - PROJETO 1"
   ]
  },
  {
   "cell_type": "markdown",
   "metadata": {},
   "source": [
    "## COLOQUE AQUI SEU NOME\n",
    "Alessandra Blücher"
   ]
  },
  {
   "cell_type": "markdown",
   "metadata": {},
   "source": [
    "## TÍTULO DO SEU PROJETO\n",
    "\n",
    "Acesso a internet no próprio domicilio comparado a outros utensílios diários."
   ]
  },
  {
   "cell_type": "markdown",
   "metadata": {},
   "source": [
    "___\n",
    "## Introdução\n",
    "\n",
    "A análise de dado tem por fim observar o grau de prioridade atribuido a internet nos domicílios brasileiros comparado a algumas variaveis relevantes.\n"
   ]
  },
  {
   "cell_type": "markdown",
   "metadata": {},
   "source": [
    "___\n",
    "## Análise e Resultados"
   ]
  },
  {
   "cell_type": "code",
   "execution_count": 19,
   "metadata": {
    "collapsed": true
   },
   "outputs": [],
   "source": [
    "%matplotlib inline\n",
    "import pandas as pd\n",
    "import matplotlib.pyplot as plt\n",
    "import numpy as np\n",
    "import os"
   ]
  },
  {
   "cell_type": "code",
   "execution_count": 20,
   "metadata": {
    "collapsed": false
   },
   "outputs": [
    {
     "name": "stdout",
     "output_type": "stream",
     "text": [
      "Esperamos trabalhar no diretório\n",
      "C:\\Users\\aless\\Desktop\\Leca\\Insper\\Matérias\\2o Semestre\\Ciência de Dados\n"
     ]
    }
   ],
   "source": [
    "print('Esperamos trabalhar no diretório')\n",
    "print(os.getcwd())"
   ]
  },
  {
   "cell_type": "code",
   "execution_count": 21,
   "metadata": {
    "collapsed": false
   },
   "outputs": [],
   "source": [
    "#Se usar o arquivo descompactado\n",
    "dados = pd.read_csv('DOM2013.csv',sep=',')\n"
   ]
  },
  {
   "cell_type": "code",
   "execution_count": 23,
   "metadata": {
    "collapsed": false
   },
   "outputs": [
    {
     "name": "stderr",
     "output_type": "stream",
     "text": [
      "C:\\Users\\aless\\Anaconda3\\lib\\site-packages\\pandas\\core\\generic.py:2773: SettingWithCopyWarning: \n",
      "A value is trying to be set on a copy of a slice from a DataFrame.\n",
      "Try using .loc[row_indexer,col_indexer] = value instead\n",
      "\n",
      "See the caveats in the documentation: http://pandas.pydata.org/pandas-docs/stable/indexing.html#indexing-view-versus-copy\n",
      "  self[name] = value\n",
      "C:\\Users\\aless\\Anaconda3\\lib\\site-packages\\pandas\\core\\indexing.py:297: SettingWithCopyWarning: \n",
      "A value is trying to be set on a copy of a slice from a DataFrame.\n",
      "Try using .loc[row_indexer,col_indexer] = value instead\n",
      "\n",
      "See the caveats in the documentation: http://pandas.pydata.org/pandas-docs/stable/indexing.html#indexing-view-versus-copy\n",
      "  self.obj[key] = _infer_fill_value(value)\n",
      "C:\\Users\\aless\\Anaconda3\\lib\\site-packages\\pandas\\core\\indexing.py:477: SettingWithCopyWarning: \n",
      "A value is trying to be set on a copy of a slice from a DataFrame.\n",
      "Try using .loc[row_indexer,col_indexer] = value instead\n",
      "\n",
      "See the caveats in the documentation: http://pandas.pydata.org/pandas-docs/stable/indexing.html#indexing-view-versus-copy\n",
      "  self.obj[item] = s\n"
     ]
    }
   ],
   "source": [
    "#Importação das variáveis escolhidas\n",
    "dados_2013 = dados[['V4105','V0211','V02322','V0230','V0228','V0215','V4624','V4621']]\n",
    "\n",
    "#Separação entre categorias ou floats\n",
    "dados_2013.V4105 = dados_2013.V4105.astype('category')\n",
    "dados_2013.V0211 = dados_2013.V0211.astype('category')\n",
    "dados_2013.V02322 = dados_2013.V02322.astype('category')\n",
    "dados_2013.V0230 = dados_2013.V0230.astype('category')\n",
    "dados_2013.V0228 = dados_2013.V0228.astype('category')\n",
    "dados_2013.V0215 = dados_2013.V0215.astype('category')\n",
    "dados_2013.V4624 = dados_2013.V4624.astype('category')\n",
    "dados_2013.V4621 = dados_2013.V4621.astype('float')\n",
    "\n",
    "#Filtração e nomenclatura das Áreas rurais\n",
    "dados_2013.loc[(dados_2013.V4105==4), 'Situação Censitária'] = 'RURAL - Aglomerado rural de extensão urbana'\n",
    "dados_2013.loc[(dados_2013.V4105==5), 'Situação Censitária'] = 'RURAL - Aglomerado rural, isolado, povoado'\n",
    "dados_2013.loc[(dados_2013.V4105==6), 'Situação Censitária'] = 'RURAL - Aglomerado rural, isolado, núcleo'\n",
    "dados_2013.loc[(dados_2013.V4105==7), 'Situação Censitária'] = 'RURAL - Aglomerado rural, isolado, outros aglomerados'\n",
    "dados_2013.loc[(dados_2013.V4105==8), 'Situação Censitária'] = 'RURAL - Zona rural exclusive aglomerado rural '\n",
    "\n",
    "\n",
    "dados_2013.V0211.cat.categories = (['Sim', 'Não'])\n",
    "dados_2013.V02322.cat.categories = (['Sim', 'Não'])\n",
    "dados_2013.V0230.cat.categories = (['Sim', 'Não'])\n",
    "dados_2013.V0228.cat.categories = (['Sim, de duas portas','Sim, de uma porta','Não'])\n",
    "dados_2013.V0215.cat.categories = (['Sim', 'Não'])\n",
    "dados_2013.V4624.cat.categories = (['Rede geral com canalização interna', 'Poço ou nascente com canalização interna', 'Outra procedência com canalização interna', 'Rede geral sem canalização interna', 'Poço ou nascente sem canalização interna', 'Outra procedência sem canalização interna'])\n",
    "\n",
    "#dados_2013.V4621  ---> por salário mínimo"
   ]
  },
  {
   "cell_type": "markdown",
   "metadata": {},
   "source": [
    "___\n",
    "## Conclusão "
   ]
  },
  {
   "cell_type": "markdown",
   "metadata": {
    "collapsed": true
   },
   "source": [
    "Descreva aqui suas conclusões!"
   ]
  },
  {
   "cell_type": "code",
   "execution_count": null,
   "metadata": {
    "collapsed": true
   },
   "outputs": [],
   "source": []
  }
 ],
 "metadata": {
  "anaconda-cloud": {},
  "kernelspec": {
   "display_name": "Python 3",
   "language": "python",
   "name": "python3"
  },
  "language_info": {
   "codemirror_mode": {
    "name": "ipython",
    "version": 3
   },
   "file_extension": ".py",
   "mimetype": "text/x-python",
   "name": "python",
   "nbconvert_exporter": "python",
   "pygments_lexer": "ipython3",
   "version": "3.6.0"
  }
 },
 "nbformat": 4,
 "nbformat_minor": 1
}
